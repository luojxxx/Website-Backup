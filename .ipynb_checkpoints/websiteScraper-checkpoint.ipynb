{
 "cells": [
  {
   "cell_type": "code",
   "execution_count": 1,
   "id": "8c074a6b-0062-46fe-bd83-b5c2a03d881a",
   "metadata": {},
   "outputs": [],
   "source": [
    "import time"
   ]
  },
  {
   "cell_type": "code",
   "execution_count": null,
   "id": "45c2a08f-5625-4517-8239-14b1e025f30c",
   "metadata": {},
   "outputs": [],
   "source": [
    "import requests\n",
    "from bs4 import BeautifulSoup\n",
    "\n",
    "# Send a GET request to the website\n",
    "url = \"https://quickshift.io\"\n",
    "response = requests.get(url)\n",
    "\n",
    "# Parse the HTML content\n",
    "soup = BeautifulSoup(response.content, 'html.parser')\n",
    "\n",
    "# Find all the anchor tags (links)\n",
    "links = soup.find_all('a')\n",
    "\n",
    "# Extract the href attribute from each link\n",
    "data = {}\n",
    "for link in links:\n",
    "    time.sleep(30)\n",
    "    try:\n",
    "        href = link.get('href')\n",
    "        if href and '#' not in href:\n",
    "            href = f'{url}{href}'\n",
    "            print(href)\n",
    "            webpage = requests.get(href)\n",
    "            \n",
    "            soup = BeautifulSoup(webpage.content, 'html.parser')\n",
    "            page = soup.find('div', id='content')\n",
    "\n",
    "            data[href] = page\n",
    "    except:\n",
    "        pass"
   ]
  },
  {
   "cell_type": "code",
   "execution_count": null,
   "id": "1553b553-0d4a-4fb0-b9a7-6ab055f4d16a",
   "metadata": {},
   "outputs": [],
   "source": [
    "for key, page in data.items():\n",
    "    try:\n",
    "        with open(f'{key[22:]}.html', 'w') as file:\n",
    "            file.write(str(page))\n",
    "    except:\n",
    "        pass"
   ]
  },
  {
   "cell_type": "code",
   "execution_count": null,
   "id": "00cbff96-550e-480b-8d87-03532189b80e",
   "metadata": {},
   "outputs": [],
   "source": []
  }
 ],
 "metadata": {
  "kernelspec": {
   "display_name": "Python 3 (ipykernel)",
   "language": "python",
   "name": "python3"
  },
  "language_info": {
   "codemirror_mode": {
    "name": "ipython",
    "version": 3
   },
   "file_extension": ".py",
   "mimetype": "text/x-python",
   "name": "python",
   "nbconvert_exporter": "python",
   "pygments_lexer": "ipython3",
   "version": "3.13.0"
  }
 },
 "nbformat": 4,
 "nbformat_minor": 5
}
