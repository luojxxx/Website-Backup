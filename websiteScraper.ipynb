{
 "cells": [
  {
   "cell_type": "code",
   "execution_count": 1,
   "id": "8c074a6b-0062-46fe-bd83-b5c2a03d881a",
   "metadata": {},
   "outputs": [],
   "source": [
    "import time"
   ]
  },
  {
   "cell_type": "code",
   "execution_count": null,
   "id": "45c2a08f-5625-4517-8239-14b1e025f30c",
   "metadata": {},
   "outputs": [
    {
     "name": "stdout",
     "output_type": "stream",
     "text": [
      "https://quickshift.io/about-me\n",
      "https://quickshift.io/\n"
     ]
    }
   ],
   "source": [
    "import requests\n",
    "from bs4 import BeautifulSoup\n",
    "\n",
    "# Send a GET request to the website\n",
    "url = \"https://quickshift.io\"\n",
    "response = requests.get(url)\n",
    "\n",
    "# Parse the HTML content\n",
    "soup = BeautifulSoup(response.content, 'html.parser')\n",
    "\n",
    "# Find all the anchor tags (links)\n",
    "links = soup.find_all('a')\n",
    "\n",
    "# Extract the href attribute from each link\n",
    "data = {}\n",
    "for link in links:\n",
    "    time.sleep(10)\n",
    "    try:\n",
    "        href = link.get('href')\n",
    "        if href and '#' not in href:\n",
    "            href = f'{url}{href}'\n",
    "            print(href)\n",
    "            webpage = requests.get(href)\n",
    "            data[href] = webpage\n",
    "    except:\n",
    "        pass"
   ]
  },
  {
   "cell_type": "code",
   "execution_count": null,
   "id": "1553b553-0d4a-4fb0-b9a7-6ab055f4d16a",
   "metadata": {},
   "outputs": [],
   "source": [
    "for key, page in data.items():\n",
    "    try:\n",
    "        with open(f'{key[22:]}.html', 'w') as file:\n",
    "            file.write(str(page.text))\n",
    "    except:\n",
    "        pass"
   ]
  },
  {
   "cell_type": "code",
   "execution_count": null,
   "id": "e86180f4-8883-4e39-842f-a7a28a747625",
   "metadata": {},
   "outputs": [],
   "source": [
    "data"
   ]
  },
  {
   "cell_type": "code",
   "execution_count": null,
   "id": "215d6b84-b2ee-4deb-9361-f73b4319bedf",
   "metadata": {},
   "outputs": [],
   "source": []
  }
 ],
 "metadata": {
  "kernelspec": {
   "display_name": "Python 3 (ipykernel)",
   "language": "python",
   "name": "python3"
  },
  "language_info": {
   "codemirror_mode": {
    "name": "ipython",
    "version": 3
   },
   "file_extension": ".py",
   "mimetype": "text/x-python",
   "name": "python",
   "nbconvert_exporter": "python",
   "pygments_lexer": "ipython3",
   "version": "3.13.0"
  }
 },
 "nbformat": 4,
 "nbformat_minor": 5
}
